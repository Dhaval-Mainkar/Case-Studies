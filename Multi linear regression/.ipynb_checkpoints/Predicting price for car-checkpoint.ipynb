{
 "cells": [
  {
   "cell_type": "code",
   "execution_count": 54,
   "id": "b1b162fc",
   "metadata": {},
   "outputs": [],
   "source": [
    "import pandas as pd\n",
    "import numpy as np\n",
    "from sklearn.linear_model import LinearRegression\n",
    "from sklearn.model_selection import train_test_split\n",
    "from matplotlib import pyplot as plt\n",
    "import seaborn as sp\n",
    "from sklearn.preprocessing import MinMaxScaler,StandardScaler"
   ]
  },
  {
   "cell_type": "code",
   "execution_count": 18,
   "id": "bb7bdda1",
   "metadata": {
    "scrolled": true
   },
   "outputs": [
    {
     "data": {
      "text/html": [
       "<div>\n",
       "<style scoped>\n",
       "    .dataframe tbody tr th:only-of-type {\n",
       "        vertical-align: middle;\n",
       "    }\n",
       "\n",
       "    .dataframe tbody tr th {\n",
       "        vertical-align: top;\n",
       "    }\n",
       "\n",
       "    .dataframe thead th {\n",
       "        text-align: right;\n",
       "    }\n",
       "</style>\n",
       "<table border=\"1\" class=\"dataframe\">\n",
       "  <thead>\n",
       "    <tr style=\"text-align: right;\">\n",
       "      <th></th>\n",
       "      <th>Id</th>\n",
       "      <th>Model</th>\n",
       "      <th>Price</th>\n",
       "      <th>Age_08_04</th>\n",
       "      <th>Mfg_Month</th>\n",
       "      <th>Mfg_Year</th>\n",
       "      <th>KM</th>\n",
       "      <th>Fuel_Type</th>\n",
       "      <th>HP</th>\n",
       "      <th>Met_Color</th>\n",
       "      <th>...</th>\n",
       "      <th>Central_Lock</th>\n",
       "      <th>Powered_Windows</th>\n",
       "      <th>Power_Steering</th>\n",
       "      <th>Radio</th>\n",
       "      <th>Mistlamps</th>\n",
       "      <th>Sport_Model</th>\n",
       "      <th>Backseat_Divider</th>\n",
       "      <th>Metallic_Rim</th>\n",
       "      <th>Radio_cassette</th>\n",
       "      <th>Tow_Bar</th>\n",
       "    </tr>\n",
       "  </thead>\n",
       "  <tbody>\n",
       "    <tr>\n",
       "      <th>0</th>\n",
       "      <td>1</td>\n",
       "      <td>TOYOTA Corolla 2.0 D4D HATCHB TERRA 2/3-Doors</td>\n",
       "      <td>13500</td>\n",
       "      <td>23</td>\n",
       "      <td>10</td>\n",
       "      <td>2002</td>\n",
       "      <td>46986</td>\n",
       "      <td>Diesel</td>\n",
       "      <td>90</td>\n",
       "      <td>1</td>\n",
       "      <td>...</td>\n",
       "      <td>1</td>\n",
       "      <td>1</td>\n",
       "      <td>1</td>\n",
       "      <td>0</td>\n",
       "      <td>0</td>\n",
       "      <td>0</td>\n",
       "      <td>1</td>\n",
       "      <td>0</td>\n",
       "      <td>0</td>\n",
       "      <td>0</td>\n",
       "    </tr>\n",
       "    <tr>\n",
       "      <th>1</th>\n",
       "      <td>2</td>\n",
       "      <td>TOYOTA Corolla 2.0 D4D HATCHB TERRA 2/3-Doors</td>\n",
       "      <td>13750</td>\n",
       "      <td>23</td>\n",
       "      <td>10</td>\n",
       "      <td>2002</td>\n",
       "      <td>72937</td>\n",
       "      <td>Diesel</td>\n",
       "      <td>90</td>\n",
       "      <td>1</td>\n",
       "      <td>...</td>\n",
       "      <td>1</td>\n",
       "      <td>0</td>\n",
       "      <td>1</td>\n",
       "      <td>0</td>\n",
       "      <td>0</td>\n",
       "      <td>0</td>\n",
       "      <td>1</td>\n",
       "      <td>0</td>\n",
       "      <td>0</td>\n",
       "      <td>0</td>\n",
       "    </tr>\n",
       "    <tr>\n",
       "      <th>2</th>\n",
       "      <td>3</td>\n",
       "      <td>TOYOTA Corolla 2.0 D4D HATCHB TERRA 2/3-Doors</td>\n",
       "      <td>13950</td>\n",
       "      <td>24</td>\n",
       "      <td>9</td>\n",
       "      <td>2002</td>\n",
       "      <td>41711</td>\n",
       "      <td>Diesel</td>\n",
       "      <td>90</td>\n",
       "      <td>1</td>\n",
       "      <td>...</td>\n",
       "      <td>0</td>\n",
       "      <td>0</td>\n",
       "      <td>1</td>\n",
       "      <td>0</td>\n",
       "      <td>0</td>\n",
       "      <td>0</td>\n",
       "      <td>1</td>\n",
       "      <td>0</td>\n",
       "      <td>0</td>\n",
       "      <td>0</td>\n",
       "    </tr>\n",
       "    <tr>\n",
       "      <th>3</th>\n",
       "      <td>4</td>\n",
       "      <td>TOYOTA Corolla 2.0 D4D HATCHB TERRA 2/3-Doors</td>\n",
       "      <td>14950</td>\n",
       "      <td>26</td>\n",
       "      <td>7</td>\n",
       "      <td>2002</td>\n",
       "      <td>48000</td>\n",
       "      <td>Diesel</td>\n",
       "      <td>90</td>\n",
       "      <td>0</td>\n",
       "      <td>...</td>\n",
       "      <td>0</td>\n",
       "      <td>0</td>\n",
       "      <td>1</td>\n",
       "      <td>0</td>\n",
       "      <td>0</td>\n",
       "      <td>0</td>\n",
       "      <td>1</td>\n",
       "      <td>0</td>\n",
       "      <td>0</td>\n",
       "      <td>0</td>\n",
       "    </tr>\n",
       "    <tr>\n",
       "      <th>4</th>\n",
       "      <td>5</td>\n",
       "      <td>TOYOTA Corolla 2.0 D4D HATCHB SOL 2/3-Doors</td>\n",
       "      <td>13750</td>\n",
       "      <td>30</td>\n",
       "      <td>3</td>\n",
       "      <td>2002</td>\n",
       "      <td>38500</td>\n",
       "      <td>Diesel</td>\n",
       "      <td>90</td>\n",
       "      <td>0</td>\n",
       "      <td>...</td>\n",
       "      <td>1</td>\n",
       "      <td>1</td>\n",
       "      <td>1</td>\n",
       "      <td>0</td>\n",
       "      <td>1</td>\n",
       "      <td>0</td>\n",
       "      <td>1</td>\n",
       "      <td>0</td>\n",
       "      <td>0</td>\n",
       "      <td>0</td>\n",
       "    </tr>\n",
       "    <tr>\n",
       "      <th>...</th>\n",
       "      <td>...</td>\n",
       "      <td>...</td>\n",
       "      <td>...</td>\n",
       "      <td>...</td>\n",
       "      <td>...</td>\n",
       "      <td>...</td>\n",
       "      <td>...</td>\n",
       "      <td>...</td>\n",
       "      <td>...</td>\n",
       "      <td>...</td>\n",
       "      <td>...</td>\n",
       "      <td>...</td>\n",
       "      <td>...</td>\n",
       "      <td>...</td>\n",
       "      <td>...</td>\n",
       "      <td>...</td>\n",
       "      <td>...</td>\n",
       "      <td>...</td>\n",
       "      <td>...</td>\n",
       "      <td>...</td>\n",
       "      <td>...</td>\n",
       "    </tr>\n",
       "    <tr>\n",
       "      <th>1431</th>\n",
       "      <td>1438</td>\n",
       "      <td>TOYOTA Corolla 1.3 16V HATCHB G6 2/3-Doors</td>\n",
       "      <td>7500</td>\n",
       "      <td>69</td>\n",
       "      <td>12</td>\n",
       "      <td>1998</td>\n",
       "      <td>20544</td>\n",
       "      <td>Petrol</td>\n",
       "      <td>86</td>\n",
       "      <td>1</td>\n",
       "      <td>...</td>\n",
       "      <td>1</td>\n",
       "      <td>1</td>\n",
       "      <td>1</td>\n",
       "      <td>0</td>\n",
       "      <td>1</td>\n",
       "      <td>1</td>\n",
       "      <td>1</td>\n",
       "      <td>0</td>\n",
       "      <td>0</td>\n",
       "      <td>0</td>\n",
       "    </tr>\n",
       "    <tr>\n",
       "      <th>1432</th>\n",
       "      <td>1439</td>\n",
       "      <td>TOYOTA Corolla 1.3 16V HATCHB LINEA TERRA 2/3-...</td>\n",
       "      <td>10845</td>\n",
       "      <td>72</td>\n",
       "      <td>9</td>\n",
       "      <td>1998</td>\n",
       "      <td>19000</td>\n",
       "      <td>Petrol</td>\n",
       "      <td>86</td>\n",
       "      <td>0</td>\n",
       "      <td>...</td>\n",
       "      <td>0</td>\n",
       "      <td>0</td>\n",
       "      <td>1</td>\n",
       "      <td>0</td>\n",
       "      <td>0</td>\n",
       "      <td>1</td>\n",
       "      <td>1</td>\n",
       "      <td>0</td>\n",
       "      <td>0</td>\n",
       "      <td>0</td>\n",
       "    </tr>\n",
       "    <tr>\n",
       "      <th>1433</th>\n",
       "      <td>1440</td>\n",
       "      <td>TOYOTA Corolla 1.3 16V HATCHB LINEA TERRA 2/3-...</td>\n",
       "      <td>8500</td>\n",
       "      <td>71</td>\n",
       "      <td>10</td>\n",
       "      <td>1998</td>\n",
       "      <td>17016</td>\n",
       "      <td>Petrol</td>\n",
       "      <td>86</td>\n",
       "      <td>0</td>\n",
       "      <td>...</td>\n",
       "      <td>0</td>\n",
       "      <td>0</td>\n",
       "      <td>1</td>\n",
       "      <td>0</td>\n",
       "      <td>0</td>\n",
       "      <td>0</td>\n",
       "      <td>1</td>\n",
       "      <td>0</td>\n",
       "      <td>0</td>\n",
       "      <td>0</td>\n",
       "    </tr>\n",
       "    <tr>\n",
       "      <th>1434</th>\n",
       "      <td>1441</td>\n",
       "      <td>TOYOTA Corolla 1.3 16V HATCHB LINEA TERRA 2/3-...</td>\n",
       "      <td>7250</td>\n",
       "      <td>70</td>\n",
       "      <td>11</td>\n",
       "      <td>1998</td>\n",
       "      <td>16916</td>\n",
       "      <td>Petrol</td>\n",
       "      <td>86</td>\n",
       "      <td>1</td>\n",
       "      <td>...</td>\n",
       "      <td>0</td>\n",
       "      <td>0</td>\n",
       "      <td>0</td>\n",
       "      <td>0</td>\n",
       "      <td>0</td>\n",
       "      <td>0</td>\n",
       "      <td>1</td>\n",
       "      <td>0</td>\n",
       "      <td>0</td>\n",
       "      <td>0</td>\n",
       "    </tr>\n",
       "    <tr>\n",
       "      <th>1435</th>\n",
       "      <td>1442</td>\n",
       "      <td>TOYOTA Corolla 1.6 LB LINEA TERRA 4/5-Doors</td>\n",
       "      <td>6950</td>\n",
       "      <td>76</td>\n",
       "      <td>5</td>\n",
       "      <td>1998</td>\n",
       "      <td>1</td>\n",
       "      <td>Petrol</td>\n",
       "      <td>110</td>\n",
       "      <td>0</td>\n",
       "      <td>...</td>\n",
       "      <td>0</td>\n",
       "      <td>0</td>\n",
       "      <td>1</td>\n",
       "      <td>0</td>\n",
       "      <td>0</td>\n",
       "      <td>0</td>\n",
       "      <td>0</td>\n",
       "      <td>0</td>\n",
       "      <td>0</td>\n",
       "      <td>0</td>\n",
       "    </tr>\n",
       "  </tbody>\n",
       "</table>\n",
       "<p>1436 rows × 38 columns</p>\n",
       "</div>"
      ],
      "text/plain": [
       "        Id                                              Model  Price  \\\n",
       "0        1      TOYOTA Corolla 2.0 D4D HATCHB TERRA 2/3-Doors  13500   \n",
       "1        2      TOYOTA Corolla 2.0 D4D HATCHB TERRA 2/3-Doors  13750   \n",
       "2        3      TOYOTA Corolla 2.0 D4D HATCHB TERRA 2/3-Doors  13950   \n",
       "3        4      TOYOTA Corolla 2.0 D4D HATCHB TERRA 2/3-Doors  14950   \n",
       "4        5        TOYOTA Corolla 2.0 D4D HATCHB SOL 2/3-Doors  13750   \n",
       "...    ...                                                ...    ...   \n",
       "1431  1438         TOYOTA Corolla 1.3 16V HATCHB G6 2/3-Doors   7500   \n",
       "1432  1439  TOYOTA Corolla 1.3 16V HATCHB LINEA TERRA 2/3-...  10845   \n",
       "1433  1440  TOYOTA Corolla 1.3 16V HATCHB LINEA TERRA 2/3-...   8500   \n",
       "1434  1441  TOYOTA Corolla 1.3 16V HATCHB LINEA TERRA 2/3-...   7250   \n",
       "1435  1442        TOYOTA Corolla 1.6 LB LINEA TERRA 4/5-Doors   6950   \n",
       "\n",
       "      Age_08_04  Mfg_Month  Mfg_Year     KM Fuel_Type   HP  Met_Color  ...  \\\n",
       "0            23         10      2002  46986    Diesel   90          1  ...   \n",
       "1            23         10      2002  72937    Diesel   90          1  ...   \n",
       "2            24          9      2002  41711    Diesel   90          1  ...   \n",
       "3            26          7      2002  48000    Diesel   90          0  ...   \n",
       "4            30          3      2002  38500    Diesel   90          0  ...   \n",
       "...         ...        ...       ...    ...       ...  ...        ...  ...   \n",
       "1431         69         12      1998  20544    Petrol   86          1  ...   \n",
       "1432         72          9      1998  19000    Petrol   86          0  ...   \n",
       "1433         71         10      1998  17016    Petrol   86          0  ...   \n",
       "1434         70         11      1998  16916    Petrol   86          1  ...   \n",
       "1435         76          5      1998      1    Petrol  110          0  ...   \n",
       "\n",
       "     Central_Lock  Powered_Windows  Power_Steering  Radio  Mistlamps  \\\n",
       "0               1                1               1      0          0   \n",
       "1               1                0               1      0          0   \n",
       "2               0                0               1      0          0   \n",
       "3               0                0               1      0          0   \n",
       "4               1                1               1      0          1   \n",
       "...           ...              ...             ...    ...        ...   \n",
       "1431            1                1               1      0          1   \n",
       "1432            0                0               1      0          0   \n",
       "1433            0                0               1      0          0   \n",
       "1434            0                0               0      0          0   \n",
       "1435            0                0               1      0          0   \n",
       "\n",
       "      Sport_Model  Backseat_Divider  Metallic_Rim  Radio_cassette  Tow_Bar  \n",
       "0               0                 1             0               0        0  \n",
       "1               0                 1             0               0        0  \n",
       "2               0                 1             0               0        0  \n",
       "3               0                 1             0               0        0  \n",
       "4               0                 1             0               0        0  \n",
       "...           ...               ...           ...             ...      ...  \n",
       "1431            1                 1             0               0        0  \n",
       "1432            1                 1             0               0        0  \n",
       "1433            0                 1             0               0        0  \n",
       "1434            0                 1             0               0        0  \n",
       "1435            0                 0             0               0        0  \n",
       "\n",
       "[1436 rows x 38 columns]"
      ]
     },
     "execution_count": 18,
     "metadata": {},
     "output_type": "execute_result"
    }
   ],
   "source": [
    "df=pd.read_csv(\"ToyotaCorolla.csv\",encoding= 'unicode_escape')\n",
    "df"
   ]
  },
  {
   "cell_type": "markdown",
   "id": "1f83059c",
   "metadata": {},
   "source": [
    "# Eda"
   ]
  },
  {
   "cell_type": "markdown",
   "id": "f64cddd6",
   "metadata": {},
   "source": [
    "# Visualisation"
   ]
  },
  {
   "cell_type": "code",
   "execution_count": null,
   "id": "a4538b20",
   "metadata": {},
   "outputs": [],
   "source": []
  },
  {
   "cell_type": "code",
   "execution_count": null,
   "id": "b943d9cb",
   "metadata": {},
   "outputs": [],
   "source": [
    "sp.pairplot(df)"
   ]
  },
  {
   "cell_type": "code",
   "execution_count": 58,
   "id": "f362d3ce",
   "metadata": {},
   "outputs": [
    {
     "name": "stdout",
     "output_type": "stream",
     "text": [
      "<class 'pandas.core.frame.DataFrame'>\n",
      "RangeIndex: 1436 entries, 0 to 1435\n",
      "Data columns (total 38 columns):\n",
      " #   Column            Non-Null Count  Dtype \n",
      "---  ------            --------------  ----- \n",
      " 0   Id                1436 non-null   int64 \n",
      " 1   Model             1436 non-null   object\n",
      " 2   Price             1436 non-null   int64 \n",
      " 3   Age_08_04         1436 non-null   int64 \n",
      " 4   Mfg_Month         1436 non-null   int64 \n",
      " 5   Mfg_Year          1436 non-null   int64 \n",
      " 6   KM                1436 non-null   int64 \n",
      " 7   Fuel_Type         1436 non-null   object\n",
      " 8   HP                1436 non-null   int64 \n",
      " 9   Met_Color         1436 non-null   int64 \n",
      " 10  Color             1436 non-null   object\n",
      " 11  Automatic         1436 non-null   int64 \n",
      " 12  cc                1436 non-null   int64 \n",
      " 13  Doors             1436 non-null   int64 \n",
      " 14  Cylinders         1436 non-null   int64 \n",
      " 15  Gears             1436 non-null   int64 \n",
      " 16  Quarterly_Tax     1436 non-null   int64 \n",
      " 17  Weight            1436 non-null   int64 \n",
      " 18  Mfr_Guarantee     1436 non-null   int64 \n",
      " 19  BOVAG_Guarantee   1436 non-null   int64 \n",
      " 20  Guarantee_Period  1436 non-null   int64 \n",
      " 21  ABS               1436 non-null   int64 \n",
      " 22  Airbag_1          1436 non-null   int64 \n",
      " 23  Airbag_2          1436 non-null   int64 \n",
      " 24  Airco             1436 non-null   int64 \n",
      " 25  Automatic_airco   1436 non-null   int64 \n",
      " 26  Boardcomputer     1436 non-null   int64 \n",
      " 27  CD_Player         1436 non-null   int64 \n",
      " 28  Central_Lock      1436 non-null   int64 \n",
      " 29  Powered_Windows   1436 non-null   int64 \n",
      " 30  Power_Steering    1436 non-null   int64 \n",
      " 31  Radio             1436 non-null   int64 \n",
      " 32  Mistlamps         1436 non-null   int64 \n",
      " 33  Sport_Model       1436 non-null   int64 \n",
      " 34  Backseat_Divider  1436 non-null   int64 \n",
      " 35  Metallic_Rim      1436 non-null   int64 \n",
      " 36  Radio_cassette    1436 non-null   int64 \n",
      " 37  Tow_Bar           1436 non-null   int64 \n",
      "dtypes: int64(35), object(3)\n",
      "memory usage: 426.4+ KB\n"
     ]
    }
   ],
   "source": [
    "df.info()"
   ]
  },
  {
   "cell_type": "code",
   "execution_count": 57,
   "id": "7952d429",
   "metadata": {
    "scrolled": false
   },
   "outputs": [
    {
     "data": {
      "text/plain": [
       "Price            0\n",
       "Age_08_04        0\n",
       "KM               0\n",
       "HP               0\n",
       "cc               0\n",
       "Doors            0\n",
       "Gears            0\n",
       "Quarterly_Tax    0\n",
       "Weight           0\n",
       "dtype: int64"
      ]
     },
     "execution_count": 57,
     "metadata": {},
     "output_type": "execute_result"
    }
   ],
   "source": [
    "df_new.isnull().sum() #to see null values "
   ]
  },
  {
   "cell_type": "code",
   "execution_count": 19,
   "id": "de1403d9",
   "metadata": {},
   "outputs": [
    {
     "data": {
      "text/html": [
       "<div>\n",
       "<style scoped>\n",
       "    .dataframe tbody tr th:only-of-type {\n",
       "        vertical-align: middle;\n",
       "    }\n",
       "\n",
       "    .dataframe tbody tr th {\n",
       "        vertical-align: top;\n",
       "    }\n",
       "\n",
       "    .dataframe thead th {\n",
       "        text-align: right;\n",
       "    }\n",
       "</style>\n",
       "<table border=\"1\" class=\"dataframe\">\n",
       "  <thead>\n",
       "    <tr style=\"text-align: right;\">\n",
       "      <th></th>\n",
       "      <th>Price</th>\n",
       "      <th>Age_08_04</th>\n",
       "      <th>KM</th>\n",
       "      <th>HP</th>\n",
       "      <th>cc</th>\n",
       "      <th>Doors</th>\n",
       "      <th>Gears</th>\n",
       "      <th>Quarterly_Tax</th>\n",
       "      <th>Weight</th>\n",
       "    </tr>\n",
       "  </thead>\n",
       "  <tbody>\n",
       "    <tr>\n",
       "      <th>0</th>\n",
       "      <td>13500</td>\n",
       "      <td>23</td>\n",
       "      <td>46986</td>\n",
       "      <td>90</td>\n",
       "      <td>2000</td>\n",
       "      <td>3</td>\n",
       "      <td>5</td>\n",
       "      <td>210</td>\n",
       "      <td>1165</td>\n",
       "    </tr>\n",
       "    <tr>\n",
       "      <th>1</th>\n",
       "      <td>13750</td>\n",
       "      <td>23</td>\n",
       "      <td>72937</td>\n",
       "      <td>90</td>\n",
       "      <td>2000</td>\n",
       "      <td>3</td>\n",
       "      <td>5</td>\n",
       "      <td>210</td>\n",
       "      <td>1165</td>\n",
       "    </tr>\n",
       "    <tr>\n",
       "      <th>2</th>\n",
       "      <td>13950</td>\n",
       "      <td>24</td>\n",
       "      <td>41711</td>\n",
       "      <td>90</td>\n",
       "      <td>2000</td>\n",
       "      <td>3</td>\n",
       "      <td>5</td>\n",
       "      <td>210</td>\n",
       "      <td>1165</td>\n",
       "    </tr>\n",
       "    <tr>\n",
       "      <th>3</th>\n",
       "      <td>14950</td>\n",
       "      <td>26</td>\n",
       "      <td>48000</td>\n",
       "      <td>90</td>\n",
       "      <td>2000</td>\n",
       "      <td>3</td>\n",
       "      <td>5</td>\n",
       "      <td>210</td>\n",
       "      <td>1165</td>\n",
       "    </tr>\n",
       "    <tr>\n",
       "      <th>4</th>\n",
       "      <td>13750</td>\n",
       "      <td>30</td>\n",
       "      <td>38500</td>\n",
       "      <td>90</td>\n",
       "      <td>2000</td>\n",
       "      <td>3</td>\n",
       "      <td>5</td>\n",
       "      <td>210</td>\n",
       "      <td>1170</td>\n",
       "    </tr>\n",
       "    <tr>\n",
       "      <th>...</th>\n",
       "      <td>...</td>\n",
       "      <td>...</td>\n",
       "      <td>...</td>\n",
       "      <td>...</td>\n",
       "      <td>...</td>\n",
       "      <td>...</td>\n",
       "      <td>...</td>\n",
       "      <td>...</td>\n",
       "      <td>...</td>\n",
       "    </tr>\n",
       "    <tr>\n",
       "      <th>1431</th>\n",
       "      <td>7500</td>\n",
       "      <td>69</td>\n",
       "      <td>20544</td>\n",
       "      <td>86</td>\n",
       "      <td>1300</td>\n",
       "      <td>3</td>\n",
       "      <td>5</td>\n",
       "      <td>69</td>\n",
       "      <td>1025</td>\n",
       "    </tr>\n",
       "    <tr>\n",
       "      <th>1432</th>\n",
       "      <td>10845</td>\n",
       "      <td>72</td>\n",
       "      <td>19000</td>\n",
       "      <td>86</td>\n",
       "      <td>1300</td>\n",
       "      <td>3</td>\n",
       "      <td>5</td>\n",
       "      <td>69</td>\n",
       "      <td>1015</td>\n",
       "    </tr>\n",
       "    <tr>\n",
       "      <th>1433</th>\n",
       "      <td>8500</td>\n",
       "      <td>71</td>\n",
       "      <td>17016</td>\n",
       "      <td>86</td>\n",
       "      <td>1300</td>\n",
       "      <td>3</td>\n",
       "      <td>5</td>\n",
       "      <td>69</td>\n",
       "      <td>1015</td>\n",
       "    </tr>\n",
       "    <tr>\n",
       "      <th>1434</th>\n",
       "      <td>7250</td>\n",
       "      <td>70</td>\n",
       "      <td>16916</td>\n",
       "      <td>86</td>\n",
       "      <td>1300</td>\n",
       "      <td>3</td>\n",
       "      <td>5</td>\n",
       "      <td>69</td>\n",
       "      <td>1015</td>\n",
       "    </tr>\n",
       "    <tr>\n",
       "      <th>1435</th>\n",
       "      <td>6950</td>\n",
       "      <td>76</td>\n",
       "      <td>1</td>\n",
       "      <td>110</td>\n",
       "      <td>1600</td>\n",
       "      <td>5</td>\n",
       "      <td>5</td>\n",
       "      <td>19</td>\n",
       "      <td>1114</td>\n",
       "    </tr>\n",
       "  </tbody>\n",
       "</table>\n",
       "<p>1436 rows × 9 columns</p>\n",
       "</div>"
      ],
      "text/plain": [
       "      Price  Age_08_04     KM   HP    cc  Doors  Gears  Quarterly_Tax  Weight\n",
       "0     13500         23  46986   90  2000      3      5            210    1165\n",
       "1     13750         23  72937   90  2000      3      5            210    1165\n",
       "2     13950         24  41711   90  2000      3      5            210    1165\n",
       "3     14950         26  48000   90  2000      3      5            210    1165\n",
       "4     13750         30  38500   90  2000      3      5            210    1170\n",
       "...     ...        ...    ...  ...   ...    ...    ...            ...     ...\n",
       "1431   7500         69  20544   86  1300      3      5             69    1025\n",
       "1432  10845         72  19000   86  1300      3      5             69    1015\n",
       "1433   8500         71  17016   86  1300      3      5             69    1015\n",
       "1434   7250         70  16916   86  1300      3      5             69    1015\n",
       "1435   6950         76      1  110  1600      5      5             19    1114\n",
       "\n",
       "[1436 rows x 9 columns]"
      ]
     },
     "execution_count": 19,
     "metadata": {},
     "output_type": "execute_result"
    }
   ],
   "source": [
    "df_new=df[[\"Price\",\"Age_08_04\",\"KM\",\"HP\",\"cc\",\"Doors\",\"Gears\",\"Quarterly_Tax\",\"Weight\"]]\n",
    "df_new"
   ]
  },
  {
   "cell_type": "markdown",
   "id": "15ba3162",
   "metadata": {},
   "source": [
    "# Outliers"
   ]
  },
  {
   "cell_type": "code",
   "execution_count": null,
   "id": "ea2d71a7",
   "metadata": {},
   "outputs": [],
   "source": [
    "q1=df_new(0.25)"
   ]
  },
  {
   "cell_type": "code",
   "execution_count": 45,
   "id": "bdc81fc0",
   "metadata": {},
   "outputs": [
    {
     "data": {
      "text/plain": [
       "<AxesSubplot:ylabel='Density'>"
      ]
     },
     "execution_count": 45,
     "metadata": {},
     "output_type": "execute_result"
    },
    {
     "data": {
      "image/png": "[encoded data removed]",
      "text/plain": [
       "<Figure size 432x288 with 1 Axes>"
      ]
     },
     "metadata": {
      "needs_background": "light"
     },
     "output_type": "display_data"
    }
   ],
   "source": [
    "sp.distplot(df_new)"
   ]
  },
  {
   "cell_type": "code",
   "execution_count": 49,
   "id": "5809d461",
   "metadata": {},
   "outputs": [
    {
     "name": "stderr",
     "output_type": "stream",
     "text": [
      "E:\\anaconda\\lib\\site-packages\\seaborn\\distributions.py:2619: FutureWarning: `distplot` is a deprecated function and will be removed in a future version. Please adapt your code to use either `displot` (a figure-level function with similar flexibility) or `histplot` (an axes-level function for histograms).\n",
      "  warnings.warn(msg, FutureWarning)\n"
     ]
    },
    {
     "data": {
      "text/plain": [
       "<AxesSubplot:ylabel='Density'>"
      ]
     },
     "execution_count": 49,
     "metadata": {},
     "output_type": "execute_result"
    },
    {
     "data": {
      "image/png": "[encoded data removed]",
      "text/plain": [
       "<Figure size 432x288 with 1 Axes>"
      ]
     },
     "metadata": {
      "needs_background": "light"
     },
     "output_type": "display_data"
    }
   ],
   "source": [
    "log=np.log(df_new)\n",
    "sp.distplot(log)"
   ]
  },
  {
   "cell_type": "code",
   "execution_count": 50,
   "id": "8469db01",
   "metadata": {},
   "outputs": [
    {
     "name": "stderr",
     "output_type": "stream",
     "text": [
      "E:\\anaconda\\lib\\site-packages\\seaborn\\distributions.py:2619: FutureWarning: `distplot` is a deprecated function and will be removed in a future version. Please adapt your code to use either `displot` (a figure-level function with similar flexibility) or `histplot` (an axes-level function for histograms).\n",
      "  warnings.warn(msg, FutureWarning)\n"
     ]
    },
    {
     "data": {
      "text/plain": [
       "<AxesSubplot:ylabel='Density'>"
      ]
     },
     "execution_count": 50,
     "metadata": {},
     "output_type": "execute_result"
    },
    {
     "data": {
      "image/png": "[encoded data removed]",
      "text/plain": [
       "<Figure size 432x288 with 1 Axes>"
      ]
     },
     "metadata": {
      "needs_background": "light"
     },
     "output_type": "display_data"
    }
   ],
   "source": [
    "sqrt=np.sqrt(df_new)\n",
    "sp.distplot(sqrt)"
   ]
  },
  {
   "cell_type": "code",
   "execution_count": 53,
   "id": "9dafa7b4",
   "metadata": {},
   "outputs": [
    {
     "name": "stderr",
     "output_type": "stream",
     "text": [
      "E:\\anaconda\\lib\\site-packages\\seaborn\\distributions.py:2619: FutureWarning: `distplot` is a deprecated function and will be removed in a future version. Please adapt your code to use either `displot` (a figure-level function with similar flexibility) or `histplot` (an axes-level function for histograms).\n",
      "  warnings.warn(msg, FutureWarning)\n"
     ]
    },
    {
     "data": {
      "text/plain": [
       "<AxesSubplot:ylabel='Density'>"
      ]
     },
     "execution_count": 53,
     "metadata": {},
     "output_type": "execute_result"
    },
    {
     "data": {
      "image/png": "[encoded data removed]",
      "text/plain": [
       "<Figure size 432x288 with 1 Axes>"
      ]
     },
     "metadata": {
      "needs_background": "light"
     },
     "output_type": "display_data"
    }
   ],
   "source": [
    "scale=MinMaxScaler()\n",
    "norm=scale.fit_transform(df_new)\n",
    "sp.distplot(norm)"
   ]
  },
  {
   "cell_type": "code",
   "execution_count": 56,
   "id": "760a7b2b",
   "metadata": {},
   "outputs": [
    {
     "name": "stderr",
     "output_type": "stream",
     "text": [
      "E:\\anaconda\\lib\\site-packages\\seaborn\\distributions.py:2619: FutureWarning: `distplot` is a deprecated function and will be removed in a future version. Please adapt your code to use either `displot` (a figure-level function with similar flexibility) or `histplot` (an axes-level function for histograms).\n",
      "  warnings.warn(msg, FutureWarning)\n"
     ]
    },
    {
     "data": {
      "text/plain": [
       "<AxesSubplot:ylabel='Density'>"
      ]
     },
     "execution_count": 56,
     "metadata": {},
     "output_type": "execute_result"
    },
    {
     "data": {
      "image/png": "[encoded data removed]",
      "text/plain": [
       "<Figure size 432x288 with 1 Axes>"
      ]
     },
     "metadata": {
      "needs_background": "light"
     },
     "output_type": "display_data"
    }
   ],
   "source": [
    "scale2=StandardScaler()\n",
    "stand=scale.fit_transform(df_new)\n",
    "sp.distplot(stand)"
   ]
  },
  {
   "cell_type": "markdown",
   "id": "a48aa616",
   "metadata": {},
   "source": [
    "# Search Duplicate"
   ]
  },
  {
   "cell_type": "code",
   "execution_count": null,
   "id": "7f8515e8",
   "metadata": {},
   "outputs": [],
   "source": []
  },
  {
   "cell_type": "code",
   "execution_count": 21,
   "id": "d44ad0c1",
   "metadata": {},
   "outputs": [
    {
     "data": {
      "text/html": [
       "<div>\n",
       "<style scoped>\n",
       "    .dataframe tbody tr th:only-of-type {\n",
       "        vertical-align: middle;\n",
       "    }\n",
       "\n",
       "    .dataframe tbody tr th {\n",
       "        vertical-align: top;\n",
       "    }\n",
       "\n",
       "    .dataframe thead th {\n",
       "        text-align: right;\n",
       "    }\n",
       "</style>\n",
       "<table border=\"1\" class=\"dataframe\">\n",
       "  <thead>\n",
       "    <tr style=\"text-align: right;\">\n",
       "      <th></th>\n",
       "      <th>Price</th>\n",
       "      <th>Age_08_04</th>\n",
       "      <th>KM</th>\n",
       "      <th>HP</th>\n",
       "      <th>cc</th>\n",
       "      <th>Doors</th>\n",
       "      <th>Gears</th>\n",
       "      <th>Quarterly_Tax</th>\n",
       "      <th>Weight</th>\n",
       "    </tr>\n",
       "  </thead>\n",
       "  <tbody>\n",
       "    <tr>\n",
       "      <th>Price</th>\n",
       "      <td>1.000000</td>\n",
       "      <td>-0.876590</td>\n",
       "      <td>-0.569960</td>\n",
       "      <td>0.314990</td>\n",
       "      <td>0.126389</td>\n",
       "      <td>0.185326</td>\n",
       "      <td>0.063104</td>\n",
       "      <td>0.219197</td>\n",
       "      <td>0.581198</td>\n",
       "    </tr>\n",
       "    <tr>\n",
       "      <th>Age_08_04</th>\n",
       "      <td>-0.876590</td>\n",
       "      <td>1.000000</td>\n",
       "      <td>0.505672</td>\n",
       "      <td>-0.156622</td>\n",
       "      <td>-0.098084</td>\n",
       "      <td>-0.148359</td>\n",
       "      <td>-0.005364</td>\n",
       "      <td>-0.198431</td>\n",
       "      <td>-0.470253</td>\n",
       "    </tr>\n",
       "    <tr>\n",
       "      <th>KM</th>\n",
       "      <td>-0.569960</td>\n",
       "      <td>0.505672</td>\n",
       "      <td>1.000000</td>\n",
       "      <td>-0.333538</td>\n",
       "      <td>0.102683</td>\n",
       "      <td>-0.036197</td>\n",
       "      <td>0.015023</td>\n",
       "      <td>0.278165</td>\n",
       "      <td>-0.028598</td>\n",
       "    </tr>\n",
       "    <tr>\n",
       "      <th>HP</th>\n",
       "      <td>0.314990</td>\n",
       "      <td>-0.156622</td>\n",
       "      <td>-0.333538</td>\n",
       "      <td>1.000000</td>\n",
       "      <td>0.035856</td>\n",
       "      <td>0.092424</td>\n",
       "      <td>0.209477</td>\n",
       "      <td>-0.298432</td>\n",
       "      <td>0.089614</td>\n",
       "    </tr>\n",
       "    <tr>\n",
       "      <th>cc</th>\n",
       "      <td>0.126389</td>\n",
       "      <td>-0.098084</td>\n",
       "      <td>0.102683</td>\n",
       "      <td>0.035856</td>\n",
       "      <td>1.000000</td>\n",
       "      <td>0.079903</td>\n",
       "      <td>0.014629</td>\n",
       "      <td>0.306996</td>\n",
       "      <td>0.335637</td>\n",
       "    </tr>\n",
       "    <tr>\n",
       "      <th>Doors</th>\n",
       "      <td>0.185326</td>\n",
       "      <td>-0.148359</td>\n",
       "      <td>-0.036197</td>\n",
       "      <td>0.092424</td>\n",
       "      <td>0.079903</td>\n",
       "      <td>1.000000</td>\n",
       "      <td>-0.160141</td>\n",
       "      <td>0.109363</td>\n",
       "      <td>0.302618</td>\n",
       "    </tr>\n",
       "    <tr>\n",
       "      <th>Gears</th>\n",
       "      <td>0.063104</td>\n",
       "      <td>-0.005364</td>\n",
       "      <td>0.015023</td>\n",
       "      <td>0.209477</td>\n",
       "      <td>0.014629</td>\n",
       "      <td>-0.160141</td>\n",
       "      <td>1.000000</td>\n",
       "      <td>-0.005452</td>\n",
       "      <td>0.020613</td>\n",
       "    </tr>\n",
       "    <tr>\n",
       "      <th>Quarterly_Tax</th>\n",
       "      <td>0.219197</td>\n",
       "      <td>-0.198431</td>\n",
       "      <td>0.278165</td>\n",
       "      <td>-0.298432</td>\n",
       "      <td>0.306996</td>\n",
       "      <td>0.109363</td>\n",
       "      <td>-0.005452</td>\n",
       "      <td>1.000000</td>\n",
       "      <td>0.626134</td>\n",
       "    </tr>\n",
       "    <tr>\n",
       "      <th>Weight</th>\n",
       "      <td>0.581198</td>\n",
       "      <td>-0.470253</td>\n",
       "      <td>-0.028598</td>\n",
       "      <td>0.089614</td>\n",
       "      <td>0.335637</td>\n",
       "      <td>0.302618</td>\n",
       "      <td>0.020613</td>\n",
       "      <td>0.626134</td>\n",
       "      <td>1.000000</td>\n",
       "    </tr>\n",
       "  </tbody>\n",
       "</table>\n",
       "</div>"
      ],
      "text/plain": [
       "                  Price  Age_08_04        KM        HP        cc     Doors  \\\n",
       "Price          1.000000  -0.876590 -0.569960  0.314990  0.126389  0.185326   \n",
       "Age_08_04     -0.876590   1.000000  0.505672 -0.156622 -0.098084 -0.148359   \n",
       "KM            -0.569960   0.505672  1.000000 -0.333538  0.102683 -0.036197   \n",
       "HP             0.314990  -0.156622 -0.333538  1.000000  0.035856  0.092424   \n",
       "cc             0.126389  -0.098084  0.102683  0.035856  1.000000  0.079903   \n",
       "Doors          0.185326  -0.148359 -0.036197  0.092424  0.079903  1.000000   \n",
       "Gears          0.063104  -0.005364  0.015023  0.209477  0.014629 -0.160141   \n",
       "Quarterly_Tax  0.219197  -0.198431  0.278165 -0.298432  0.306996  0.109363   \n",
       "Weight         0.581198  -0.470253 -0.028598  0.089614  0.335637  0.302618   \n",
       "\n",
       "                  Gears  Quarterly_Tax    Weight  \n",
       "Price          0.063104       0.219197  0.581198  \n",
       "Age_08_04     -0.005364      -0.198431 -0.470253  \n",
       "KM             0.015023       0.278165 -0.028598  \n",
       "HP             0.209477      -0.298432  0.089614  \n",
       "cc             0.014629       0.306996  0.335637  \n",
       "Doors         -0.160141       0.109363  0.302618  \n",
       "Gears          1.000000      -0.005452  0.020613  \n",
       "Quarterly_Tax -0.005452       1.000000  0.626134  \n",
       "Weight         0.020613       0.626134  1.000000  "
      ]
     },
     "execution_count": 21,
     "metadata": {},
     "output_type": "execute_result"
    }
   ],
   "source": [
    "df_new.corr()"
   ]
  },
  {
   "cell_type": "markdown",
   "id": "3474cab1",
   "metadata": {},
   "source": [
    "# Heatmap"
   ]
  },
  {
   "cell_type": "code",
   "execution_count": null,
   "id": "f0c3570b",
   "metadata": {},
   "outputs": [],
   "source": []
  },
  {
   "cell_type": "code",
   "execution_count": 24,
   "id": "d2a1f56a",
   "metadata": {},
   "outputs": [
    {
     "data": {
      "text/plain": [
       "Index(['Price', 'Age_08_04', 'KM', 'HP', 'cc', 'Doors', 'Gears',\n",
       "       'Quarterly_Tax', 'Weight'],\n",
       "      dtype='object')"
      ]
     },
     "execution_count": 24,
     "metadata": {},
     "output_type": "execute_result"
    }
   ],
   "source": [
    "df_new.columns"
   ]
  },
  {
   "cell_type": "code",
   "execution_count": 25,
   "id": "19b0f37c",
   "metadata": {},
   "outputs": [],
   "source": [
    "x=df_new[['Age_08_04', 'KM', 'HP', \"cc\",'Gears','Quarterly_Tax', 'Weight']]"
   ]
  },
  {
   "cell_type": "code",
   "execution_count": 26,
   "id": "bbb1c091",
   "metadata": {},
   "outputs": [],
   "source": [
    "y=df_new[\"Price\"]"
   ]
  },
  {
   "cell_type": "code",
   "execution_count": 27,
   "id": "893ab473",
   "metadata": {},
   "outputs": [],
   "source": [
    "x_train,x_test,y_train,y_test=train_test_split(x,y,random_state=42,test_size=0.33)"
   ]
  },
  {
   "cell_type": "code",
   "execution_count": 28,
   "id": "c60b91aa",
   "metadata": {},
   "outputs": [],
   "source": [
    "model=LinearRegression()"
   ]
  },
  {
   "cell_type": "code",
   "execution_count": 29,
   "id": "86316772",
   "metadata": {},
   "outputs": [
    {
     "data": {
      "text/plain": [
       "LinearRegression()"
      ]
     },
     "execution_count": 29,
     "metadata": {},
     "output_type": "execute_result"
    }
   ],
   "source": [
    "model.fit(x_train,y_train)"
   ]
  },
  {
   "cell_type": "code",
   "execution_count": 30,
   "id": "2524f715",
   "metadata": {
    "scrolled": true
   },
   "outputs": [
    {
     "data": {
      "text/plain": [
       "array([11405.22204774,  8994.61123113,  9598.76769587,  8979.51521691,\n",
       "        9964.47093728,  7785.29397853,  8824.77226916,  8356.02106084,\n",
       "       14167.55530394, 13207.94346269,  9347.09524367,  9425.44050665,\n",
       "       13030.47001202, 13198.87971772,  9811.99653122,  8339.23314273,\n",
       "       12402.75199879, 17442.06470413,  7307.53944308,  9219.24216239,\n",
       "       12891.80510817, 17821.04497994,  7947.04397611, 10589.23928761,\n",
       "        7414.62867663, 15937.32082632,  9588.38456367,  7264.84003286,\n",
       "       15468.18270829, 14631.6267159 ,  8162.68541209,  9981.29958999,\n",
       "        8543.89921027, 10164.23823886, 10345.07226474,  8075.08227502,\n",
       "        8969.26014295, 10027.94543368, 16173.86719236,  9490.72898794,\n",
       "        9941.93925921,  9594.37904665,  7887.17505092,  5401.35899086,\n",
       "        6843.65618109, 16962.45651414,  9490.72515665, 10708.63394942,\n",
       "        8829.8903645 , 13585.9609379 , 13170.50398452,  6392.17020489,\n",
       "       14668.03799991, 16132.25438951,  5984.82245834,  7730.66136944,\n",
       "       10533.53885171, 10822.74345021, 15901.6363087 , 19250.34655209,\n",
       "       12635.3198317 ,  8317.76394231,  7867.60151945, 11089.03047221,\n",
       "       13459.43359592,  8939.62482681, 13093.92495996,  7521.08425644,\n",
       "        8302.49956229, 10878.98928404, 20364.75406801, 11145.17668083,\n",
       "       13136.43841935,  7488.48609131, 18616.69666308, 13795.40488168,\n",
       "        8229.67186875,  7552.14883682,  9881.38824483,  9131.61343307,\n",
       "       10341.15642314,  8676.46847631, 10562.53406412, 10887.14701241,\n",
       "        7632.36712173,  6274.74808888, 11018.48012522, 13117.73062018,\n",
       "        9631.85245523, 11064.81834424,  7848.11061331,  6557.98896552,\n",
       "       10591.56759253, 10840.53050726, 12791.01421723,  9261.92133017,\n",
       "       21462.59608202,  7790.11569657, 14115.10237109,  8707.98765789,\n",
       "       10855.72648032,  9633.29419043, 10764.03240589, 16588.21209574,\n",
       "        8843.55379564,  7662.52705817, 16631.26799115,  7782.68269989,\n",
       "        9695.75549437,  8757.17642115, 11775.23929048, 10572.66714606,\n",
       "        9921.53157548, 13882.36382281,  9451.34557159,  8231.72337917,\n",
       "        6519.71320544, 13507.85430613, 12545.20641765, 14061.19644913,\n",
       "        7889.43270854,  7351.32468967,  8373.19446001, 15242.23323162,\n",
       "       11805.13481285,  8943.01438487, 13157.17788014,  8994.66621274,\n",
       "        8560.50959125, 12769.54400599, 11351.59117239, 15409.53027489,\n",
       "       10554.53111971,  9643.39337682,  6410.78835544,  9197.1727261 ,\n",
       "       10333.88740925, 11575.84541543,  8276.57515807,  5025.37264023,\n",
       "       12444.04968333, 10903.19593385, 12505.36811519,  8351.41329307,\n",
       "       12282.02982471, 11353.00390552,  7145.61583197,  8564.34271571,\n",
       "        8326.99352021, 11392.12891529, 10384.71072213, 15858.51347243,\n",
       "        8502.13655489,  9147.29196835, 11349.28184859, 11081.49756048,\n",
       "        8769.12263924, 13422.7034782 , 10060.12713079, 19018.69750353,\n",
       "       11217.22599122, 15389.82232087, 15188.42136291,  7735.81549877,\n",
       "        9054.84266249, 12921.36290069,  7977.5041545 , 13634.48225729,\n",
       "        8236.86629137,  7634.27197228,  8219.36966999, 12538.16063168,\n",
       "        9366.75827562, 12939.9334008 , 10505.87814622,  9455.78758521,\n",
       "       16615.86864013, 10832.92171971,  9757.025441  , 10715.85162319,\n",
       "       12319.81509773, 10987.13006821, 13784.54328848,  7782.95384829,\n",
       "        9284.02473069,  7597.0504798 ,  5976.00422754,  8324.76961702,\n",
       "        9698.82027848, 11000.94872865,  9138.02249015,  7492.7373407 ,\n",
       "        6156.13069505, 11323.55480313, 10460.11678705, 11088.39509628,\n",
       "        6988.09214322,  7291.96289583, 10077.40618566, 17495.69287078,\n",
       "        9245.59561187,  7774.69203059,  7034.38812505,  8696.04553464,\n",
       "       15953.31429806, 17015.18185899, 10674.92013057, 10080.99665945,\n",
       "       11064.81371738,  9190.26740158,  9040.20116026, 11208.35280394,\n",
       "        9720.45950205, 10235.59794778,  6935.37116801, 11830.18554772,\n",
       "        7884.00209531,  9247.84127602,  7188.54573203, 11366.88391777,\n",
       "        8804.89136902, 10740.13158365, 11043.52663857, 10270.58269512,\n",
       "       17150.51321341,  6571.70593869, 15988.76223337,  7439.19242298,\n",
       "       13300.52678575,  7340.11425744, 12445.92053217,  9608.24685741,\n",
       "       26419.24000379,  7827.68281395,  9404.27971167,  8353.93639539,\n",
       "       13942.45147325, 13263.49237452, 10127.35607467,  8627.92431682,\n",
       "       13826.97673729, 19031.65619792, 13775.23095417,  9626.08703167,\n",
       "       20633.15196075,  9818.66090251,  9333.53592384, 10005.32315515,\n",
       "       10067.94867503,  9155.23750622,  8604.07844507, 10455.49010278,\n",
       "        8685.98301204,  5398.91786302, 10522.43798509, 10935.75677951,\n",
       "        6773.54488178, 10135.61187057, 13445.48971546, 11086.78107218,\n",
       "       12936.33746829,  6991.25197442,  6041.11420326, 10704.03535167,\n",
       "        6500.69725314, 12082.08700458, 13232.79742957,  5387.53406322,\n",
       "        8810.42355819,  8094.12037765, 13286.63432662, 15494.44941254,\n",
       "        6712.61325869, 13608.45190646,  7760.52956079,  7276.54646981,\n",
       "        8469.28400591,  7710.20671474,  6278.84391827, 21993.57766526,\n",
       "       22784.22493042, 10382.15516121,  7288.59009826, 19007.40382194,\n",
       "        8167.33262059, 13615.39155324, 10484.8820871 , 10828.76133173,\n",
       "        9066.42356496,  8981.48208439, 13669.05043453,  7976.64532553,\n",
       "       15903.82748811, 12769.27789124,  9116.47020353, 12516.48870185,\n",
       "       10415.33162255, 14602.50379592,  7191.98298238, 12729.93637894,\n",
       "       13338.54715089,  9661.7939119 ,  8715.34865971, 10992.37385625,\n",
       "       16991.76249248, 18002.12678051, 16934.03944517,  8645.38370127,\n",
       "        7198.4008717 ,  5793.66281082,  6444.50105513,  6438.60145611,\n",
       "        7528.795208  , 11179.29808126, 19386.18846914,  7116.42103969,\n",
       "        6280.84114874, 10538.46803781, 11666.10336966,  9932.54942347,\n",
       "        8084.37354915,  7710.01297062, 12349.27328582, 11798.23049372,\n",
       "        8239.46573787, 12376.7626536 , 10980.66953119, 15324.58818867,\n",
       "        8465.44414969,  7422.00591491,  9128.68189891, 10278.99557344,\n",
       "        9741.45468894,  9525.71859427,  7557.18393454, 11553.55156876,\n",
       "        8221.09574977, 16802.295646  , 10915.18825337, 11906.21424447,\n",
       "       12066.73293821, 10271.95551006, 26449.18589473, 17106.72490341,\n",
       "       13280.87466327,  8465.44353848, 10913.68483105,  9441.98377455,\n",
       "       13817.08110615,  9953.78080112,  8140.11190059,  7535.29904698,\n",
       "       13458.56653769,  8739.88796507,  8040.03742809, 15895.47744637,\n",
       "        8790.39995801, 13626.12816628,  8840.30916031,  6562.00079287,\n",
       "       14062.15073006, 17952.12338333,  7837.5725749 ,  9337.99162544,\n",
       "       11468.8124552 , 14157.77048816, 10883.36502375, 16573.10853891,\n",
       "       11590.36159546, 12388.94024258,  7732.5871999 ,  6702.57209869,\n",
       "        9495.42930902, 11315.82354267, 13558.5234955 ,  8476.45500516,\n",
       "       10098.97084715,  9766.78309641, 10970.04884142, 11472.1504752 ,\n",
       "       20475.37220889, 18195.68815566,  7909.48159742, 13194.23176232,\n",
       "       14143.02715041,  8131.97985545, 13611.64022906, 10778.47982993,\n",
       "        9210.43149078, 11960.98953875, 16797.00690433,  7761.89467263,\n",
       "       14391.1082232 , 12496.17551026,  9652.33472761,  6314.06823628,\n",
       "        9706.61481403, 16590.15716596, 11130.58784705, 11478.02196535,\n",
       "        8898.52772901, 11428.10250397, 10415.43159286, 12331.05186488,\n",
       "       10108.23371799, 17868.92815951,  8997.63902941,  8751.49714665,\n",
       "       11772.67780509,  8618.46986959,  7495.34920262,  8626.60500646,\n",
       "       12179.42695723,  9981.47972564, 11097.25157047, 12440.67766535,\n",
       "       10244.02838167,  7820.75874645, 11225.78804719, 12116.80630107,\n",
       "       16383.74498849, 10926.54729768, 10790.57848584,  9956.93929111,\n",
       "       10405.02546057, 10697.38805784, 11215.85336842, 17535.09823107,\n",
       "        8908.23690362,  8439.11937001,  8371.44688445, 12036.62983559,\n",
       "        9945.28518777, 11389.51480391,  7512.98126627,  8455.80763078,\n",
       "       10325.35961551, 11609.18062643, 11477.20418793, 10051.56973572,\n",
       "        8519.02835184, 12660.01740267, 11086.86465617, 10754.82768308,\n",
       "        8081.2416428 , 10064.34757731,  9915.84113255, 10042.59288738,\n",
       "       14072.68313638, 10057.14711139, 17389.21456436, 19103.05487318,\n",
       "       12541.25267843,  8627.25750427,  7802.00014927, 13347.82023148,\n",
       "       10652.67120304, 11261.64062   ,  9476.88092555, 11689.36925339,\n",
       "        9577.133278  , 12659.16489129, 15935.27580523,  5859.53688652,\n",
       "        9291.2629212 ,  9237.6744129 ,  8252.30085802,  9089.4566915 ,\n",
       "        9954.60767598,  6552.99328378,  9671.09527161,  7836.54711717,\n",
       "       13321.83942664, 13575.14180161])"
      ]
     },
     "execution_count": 30,
     "metadata": {},
     "output_type": "execute_result"
    }
   ],
   "source": [
    "pred=model.predict(x_test)\n",
    "pred"
   ]
  },
  {
   "cell_type": "code",
   "execution_count": 31,
   "id": "79722b09",
   "metadata": {},
   "outputs": [
    {
     "data": {
      "text/plain": [
       "0.860363441560787"
      ]
     },
     "execution_count": 31,
     "metadata": {},
     "output_type": "execute_result"
    }
   ],
   "source": [
    "model.score(x_test,y_test)"
   ]
  },
  {
   "cell_type": "code",
   "execution_count": 32,
   "id": "e3101779",
   "metadata": {},
   "outputs": [
    {
     "data": {
      "text/plain": [
       "0.8649638123699996"
      ]
     },
     "execution_count": 32,
     "metadata": {},
     "output_type": "execute_result"
    }
   ],
   "source": [
    "model.score(x_train,y_train)"
   ]
  }
 ],
 "metadata": {
  "kernelspec": {
   "display_name": "Python 3 (ipykernel)",
   "language": "python",
   "name": "python3"
  },
  "language_info": {
   "codemirror_mode": {
    "name": "ipython",
    "version": 3
   },
   "file_extension": ".py",
   "mimetype": "text/x-python",
   "name": "python",
   "nbconvert_exporter": "python",
   "pygments_lexer": "ipython3",
   "version": "3.9.12"
  }
 },
 "nbformat": 4,
 "nbformat_minor": 5
}
