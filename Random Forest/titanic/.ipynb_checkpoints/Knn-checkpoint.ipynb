{
 "cells": [
  {
   "cell_type": "code",
   "execution_count": 123,
   "id": "9a49c415",
   "metadata": {},
   "outputs": [],
   "source": [
    "from pandas import read_csv\n",
    "import numpy as np\n",
    "from sklearn.model_selection import KFold\n",
    "from sklearn.model_selection import cross_val_score\n",
    "from sklearn.neighbors import KNeighborsClassifier\n",
    "import pandas as pd\n",
    "from sklearn.model_selection import GridSearchCV"
   ]
  },
  {
   "cell_type": "code",
   "execution_count": 124,
   "id": "af553569",
   "metadata": {},
   "outputs": [],
   "source": [
    "df=pd.read_csv(\"titanic_train.csv\")"
   ]
  },
  {
   "cell_type": "code",
   "execution_count": 125,
   "id": "3ee86a25",
   "metadata": {
    "scrolled": true
   },
   "outputs": [],
   "source": [
    "df_new1=pd.get_dummies(df,columns=[\"Sex\",\"Embarked\",\"Pclass\"])"
   ]
  },
  {
   "cell_type": "code",
   "execution_count": 126,
   "id": "cda15d1d",
   "metadata": {},
   "outputs": [],
   "source": [
    "x=df_new1[[\"Sex_female\",\"Embarked_S\",\"Embarked_Q\",\"Pclass_3\",\"Pclass_2\",\"SibSp\",\"Parch\"]]"
   ]
  },
  {
   "cell_type": "code",
   "execution_count": 127,
   "id": "91fc5c60",
   "metadata": {},
   "outputs": [],
   "source": [
    "y=df_new1[\"Survived\"]"
   ]
  },
  {
   "cell_type": "code",
   "execution_count": 128,
   "id": "6be23a14",
   "metadata": {},
   "outputs": [],
   "source": [
    "num_folds=12\n",
    "kfold=KFold(n_splits=10)"
   ]
  },
  {
   "cell_type": "code",
   "execution_count": 129,
   "id": "8971ab0c",
   "metadata": {},
   "outputs": [],
   "source": [
    "model=KNeighborsClassifier(n_neighbors=9)"
   ]
  },
  {
   "cell_type": "code",
   "execution_count": 130,
   "id": "fc2975d6",
   "metadata": {},
   "outputs": [],
   "source": [
    "pred=cross_val_score(model,x,y,cv=kfold)"
   ]
  },
  {
   "cell_type": "code",
   "execution_count": 131,
   "id": "3fcfe655",
   "metadata": {},
   "outputs": [
    {
     "name": "stdout",
     "output_type": "stream",
     "text": [
      "0.8013233458177279\n"
     ]
    }
   ],
   "source": [
    "print(pred.mean())"
   ]
  },
  {
   "cell_type": "markdown",
   "id": "003b66e7",
   "metadata": {},
   "source": [
    "# Grid Search"
   ]
  },
  {
   "cell_type": "code",
   "execution_count": 138,
   "id": "07862591",
   "metadata": {},
   "outputs": [],
   "source": [
    "n_neighbors = np.array(range(1,70)) #for loop cannot be applied since we want to know k here and that cannot be done by plotting\n",
    "                                    #how we did in kmeans\n",
    "param_grid = dict(n_neighbors=n_neighbors)"
   ]
  },
  {
   "cell_type": "code",
   "execution_count": 139,
   "id": "bf8c3779",
   "metadata": {},
   "outputs": [
    {
     "data": {
      "text/plain": [
       "GridSearchCV(estimator=KNeighborsClassifier(),\n",
       "             param_grid={'n_neighbors': array([ 1,  2,  3,  4,  5,  6,  7,  8,  9, 10, 11, 12, 13, 14, 15, 16, 17,\n",
       "       18, 19, 20, 21, 22, 23, 24, 25, 26, 27, 28, 29, 30, 31, 32, 33, 34,\n",
       "       35, 36, 37, 38, 39, 40, 41, 42, 43, 44, 45, 46, 47, 48, 49, 50, 51,\n",
       "       52, 53, 54, 55, 56, 57, 58, 59, 60, 61, 62, 63, 64, 65, 66, 67, 68,\n",
       "       69])})"
      ]
     },
     "execution_count": 139,
     "metadata": {},
     "output_type": "execute_result"
    }
   ],
   "source": [
    "model = KNeighborsClassifier()\n",
    "grid = GridSearchCV(estimator=model, param_grid=param_grid)\n",
    "grid.fit(x,y)"
   ]
  },
  {
   "cell_type": "code",
   "execution_count": 140,
   "id": "70b2fc51",
   "metadata": {},
   "outputs": [
    {
     "name": "stdout",
     "output_type": "stream",
     "text": [
      "0.8035904839620865\n",
      "{'n_neighbors': 23}\n"
     ]
    }
   ],
   "source": [
    "print(grid.best_score_)\n",
    "print(grid.best_params_)"
   ]
  },
  {
   "cell_type": "code",
   "execution_count": null,
   "id": "21329da2",
   "metadata": {},
   "outputs": [],
   "source": []
  }
 ],
 "metadata": {
  "kernelspec": {
   "display_name": "Python 3 (ipykernel)",
   "language": "python",
   "name": "python3"
  },
  "language_info": {
   "codemirror_mode": {
    "name": "ipython",
    "version": 3
   },
   "file_extension": ".py",
   "mimetype": "text/x-python",
   "name": "python",
   "nbconvert_exporter": "python",
   "pygments_lexer": "ipython3",
   "version": "3.9.7"
  }
 },
 "nbformat": 4,
 "nbformat_minor": 5
}
