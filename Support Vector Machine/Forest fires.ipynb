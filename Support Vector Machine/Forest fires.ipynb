{
 "cells": [
  {
   "cell_type": "code",
   "execution_count": 135,
   "id": "593518ff",
   "metadata": {},
   "outputs": [],
   "source": [
    "import pandas as pd\n",
    "import seaborn as sp\n",
    "import matplotlib.pyplot as plt\n",
    "from sklearn.model_selection import train_test_split, GridSearchCV\n",
    "from sklearn.metrics import accuracy_score, confusion_matrix\n",
    "from sklearn import svm\n",
    "from sklearn.svm import SVC"
   ]
  },
  {
   "cell_type": "code",
   "execution_count": 2,
   "id": "b5aa347d",
   "metadata": {},
   "outputs": [],
   "source": [
    "df=pd.read_csv(\"forestfires.csv\")"
   ]
  },
  {
   "cell_type": "markdown",
   "id": "79175f7b",
   "metadata": {},
   "source": [
    "# Eda"
   ]
  },
  {
   "cell_type": "code",
   "execution_count": 3,
   "id": "8026fde5",
   "metadata": {},
   "outputs": [
    {
     "data": {
      "text/plain": [
       "month            0\n",
       "day              0\n",
       "FFMC             0\n",
       "DMC              0\n",
       "DC               0\n",
       "ISI              0\n",
       "temp             0\n",
       "RH               0\n",
       "wind             0\n",
       "rain             0\n",
       "area             0\n",
       "dayfri           0\n",
       "daymon           0\n",
       "daysat           0\n",
       "daysun           0\n",
       "daythu           0\n",
       "daytue           0\n",
       "daywed           0\n",
       "monthapr         0\n",
       "monthaug         0\n",
       "monthdec         0\n",
       "monthfeb         0\n",
       "monthjan         0\n",
       "monthjul         0\n",
       "monthjun         0\n",
       "monthmar         0\n",
       "monthmay         0\n",
       "monthnov         0\n",
       "monthoct         0\n",
       "monthsep         0\n",
       "size_category    0\n",
       "dtype: int64"
      ]
     },
     "execution_count": 3,
     "metadata": {},
     "output_type": "execute_result"
    }
   ],
   "source": [
    "df.isnull().sum()"
   ]
  },
  {
   "cell_type": "code",
   "execution_count": 4,
   "id": "7065e2dc",
   "metadata": {},
   "outputs": [
    {
     "data": {
      "text/plain": [
       "0      False\n",
       "1      False\n",
       "2      False\n",
       "3      False\n",
       "4      False\n",
       "       ...  \n",
       "512    False\n",
       "513    False\n",
       "514    False\n",
       "515    False\n",
       "516    False\n",
       "Length: 517, dtype: bool"
      ]
     },
     "execution_count": 4,
     "metadata": {},
     "output_type": "execute_result"
    }
   ],
   "source": [
    "df.duplicated()"
   ]
  },
  {
   "cell_type": "code",
   "execution_count": 5,
   "id": "4133589d",
   "metadata": {},
   "outputs": [
    {
     "data": {
      "image/png": "[encoded data removed]",
      "text/plain": [
       "<Figure size 864x504 with 1 Axes>"
      ]
     },
     "metadata": {
      "needs_background": "light"
     },
     "output_type": "display_data"
    }
   ],
   "source": [
    "plt.figure(figsize=(12,7))\n",
    "sp.barplot(x=\"month\",y=\"temp\",data=df,palette=\"spring\",order=[\"jan\",\"feb\",\"mar\",\"apr\",\"may\",\"jun\",\"jul\",\"aug\",\"sep\",\"oct\",\"nov\"\n",
    "                                                             ,\"dec\"])\n",
    "sp.set(font_scale=1.5)"
   ]
  },
  {
   "cell_type": "code",
   "execution_count": 6,
   "id": "c57dff46",
   "metadata": {},
   "outputs": [
    {
     "data": {
      "text/plain": [
       "Index(['month', 'day', 'FFMC', 'DMC', 'DC', 'ISI', 'temp', 'RH', 'wind',\n",
       "       'rain', 'area', 'dayfri', 'daymon', 'daysat', 'daysun', 'daythu',\n",
       "       'daytue', 'daywed', 'monthapr', 'monthaug', 'monthdec', 'monthfeb',\n",
       "       'monthjan', 'monthjul', 'monthjun', 'monthmar', 'monthmay', 'monthnov',\n",
       "       'monthoct', 'monthsep', 'size_category'],\n",
       "      dtype='object')"
      ]
     },
     "execution_count": 6,
     "metadata": {},
     "output_type": "execute_result"
    }
   ],
   "source": [
    "df.columns"
   ]
  },
  {
   "cell_type": "code",
   "execution_count": 40,
   "id": "3923a9b1",
   "metadata": {},
   "outputs": [],
   "source": [
    "x=df[['FFMC', 'DMC', 'DC', 'ISI', 'temp', 'RH', 'wind',\n",
    "       'rain', 'area', 'dayfri', 'daymon', 'daysat', 'daysun', 'daythu',\n",
    "       'daytue', 'daywed', 'monthapr', 'monthaug', 'monthdec', 'monthfeb',\n",
    "       'monthjan', 'monthjul', 'monthjun', 'monthmar', 'monthmay', 'monthnov',\n",
    "       'monthoct', 'monthsep']]\n",
    "y=df[\"size_category\"]"
   ]
  },
  {
   "cell_type": "code",
   "execution_count": 41,
   "id": "af71ffc7",
   "metadata": {},
   "outputs": [],
   "source": [
    "x_train,x_test,y_train,y_test=train_test_split(x,y,random_state=42,test_size=0.33)"
   ]
  },
  {
   "cell_type": "markdown",
   "id": "aae61f49",
   "metadata": {},
   "source": [
    "# Using polynomial kernel"
   ]
  },
  {
   "cell_type": "markdown",
   "id": "f7a5ffdd",
   "metadata": {},
   "source": [
    "# Using grid search to get the best parameters for svm"
   ]
  },
  {
   "cell_type": "code",
   "execution_count": 91,
   "id": "150b0ff6",
   "metadata": {},
   "outputs": [],
   "source": [
    "svc=SVC()"
   ]
  },
  {
   "cell_type": "code",
   "execution_count": 92,
   "id": "0d172b18",
   "metadata": {},
   "outputs": [],
   "source": [
    "parameters = [{'kernel':['poly'],'C':[15,14,13,12,11,10,0.1,0.001] }] #definging the parameters where kernel is poly and c is \n",
    "                                                                      #regularisation"
   ]
  },
  {
   "cell_type": "code",
   "execution_count": 93,
   "id": "7e3bf4cf",
   "metadata": {},
   "outputs": [],
   "source": [
    "grid_search = GridSearchCV(svc,parameters)  "
   ]
  },
  {
   "cell_type": "code",
   "execution_count": 94,
   "id": "fadec83b",
   "metadata": {},
   "outputs": [
    {
     "data": {
      "text/plain": [
       "GridSearchCV(estimator=SVC(),\n",
       "             param_grid=[{'C': [15, 14, 13, 12, 11, 10, 0.1, 0.001],\n",
       "                          'kernel': ['poly']}])"
      ]
     },
     "execution_count": 94,
     "metadata": {},
     "output_type": "execute_result"
    }
   ],
   "source": [
    "grid_search.fit(x_train,y_train)"
   ]
  },
  {
   "cell_type": "code",
   "execution_count": 112,
   "id": "167027f0",
   "metadata": {},
   "outputs": [
    {
     "data": {
      "text/plain": [
       "{'C': 15, 'kernel': 'poly'}"
      ]
     },
     "execution_count": 112,
     "metadata": {},
     "output_type": "execute_result"
    }
   ],
   "source": [
    "grid_search.best_params_ #no matter what variable u give u have to write best_params to get best parameters"
   ]
  },
  {
   "cell_type": "markdown",
   "id": "ff51e4f7",
   "metadata": {},
   "source": [
    "# Tunning the hyper parameters"
   ]
  },
  {
   "cell_type": "code",
   "execution_count": 110,
   "id": "04eef7b3",
   "metadata": {},
   "outputs": [
    {
     "data": {
      "text/plain": [
       "array(['small', 'small', 'small', 'small', 'small', 'small', 'small',\n",
       "       'small', 'small', 'small', 'small', 'small', 'small', 'small',\n",
       "       'small', 'small', 'small', 'small', 'small', 'small', 'small',\n",
       "       'large', 'small', 'large', 'small', 'small', 'small', 'small',\n",
       "       'small', 'small', 'small', 'large', 'small', 'small', 'small',\n",
       "       'small', 'small', 'large', 'small', 'small', 'small', 'small',\n",
       "       'small', 'small', 'small', 'small', 'small', 'small', 'small',\n",
       "       'small', 'small', 'large', 'large', 'small', 'large', 'small',\n",
       "       'small', 'small', 'small', 'small', 'small', 'small', 'small',\n",
       "       'small', 'small', 'small', 'small', 'small', 'large', 'small',\n",
       "       'small', 'large', 'small', 'small', 'small', 'small', 'small',\n",
       "       'small', 'small', 'small', 'small', 'large', 'small', 'small',\n",
       "       'small', 'small', 'small', 'small', 'small', 'small', 'small',\n",
       "       'small', 'small', 'small', 'small', 'large', 'small', 'small',\n",
       "       'small', 'small', 'small', 'small', 'large', 'large', 'small',\n",
       "       'small', 'small', 'large', 'small', 'small', 'small', 'small',\n",
       "       'small', 'large', 'small', 'small', 'small', 'small', 'small',\n",
       "       'small', 'small', 'small', 'large', 'small', 'small', 'small',\n",
       "       'small', 'small', 'small', 'small', 'small', 'small', 'small',\n",
       "       'small', 'small', 'small', 'small', 'small', 'large', 'small',\n",
       "       'small', 'small', 'small', 'small', 'small', 'large', 'small',\n",
       "       'small', 'small', 'small', 'small', 'small', 'small', 'small',\n",
       "       'small', 'small', 'large', 'small', 'small', 'small', 'small',\n",
       "       'small', 'small', 'small', 'small', 'small', 'small', 'large',\n",
       "       'small', 'small', 'large'], dtype=object)"
      ]
     },
     "execution_count": 110,
     "metadata": {},
     "output_type": "execute_result"
    }
   ],
   "source": [
    "model=SVC(kernel=\"poly\",C=15) #setting c as 15 since this is the best fit number for regularisation\n",
    "model.fit(x_train,y_train)\n",
    "model.predict(x_test)"
   ]
  },
  {
   "cell_type": "code",
   "execution_count": 108,
   "id": "0be8e517",
   "metadata": {},
   "outputs": [
    {
     "data": {
      "text/plain": [
       "0.8554913294797688"
      ]
     },
     "execution_count": 108,
     "metadata": {},
     "output_type": "execute_result"
    }
   ],
   "source": [
    "model.score(x_train,y_train)"
   ]
  },
  {
   "cell_type": "code",
   "execution_count": 109,
   "id": "993675f8",
   "metadata": {},
   "outputs": [
    {
     "data": {
      "text/plain": [
       "0.847953216374269"
      ]
     },
     "execution_count": 109,
     "metadata": {},
     "output_type": "execute_result"
    }
   ],
   "source": [
    "model.score(x_test,y_test)"
   ]
  },
  {
   "cell_type": "markdown",
   "id": "2cff5964",
   "metadata": {},
   "source": [
    "# Using rbf kernel"
   ]
  },
  {
   "cell_type": "markdown",
   "id": "1cdbeda7",
   "metadata": {},
   "source": [
    "# Grid search to find the best parameters"
   ]
  },
  {
   "cell_type": "code",
   "execution_count": 111,
   "id": "e7e19659",
   "metadata": {},
   "outputs": [],
   "source": [
    "svc=SVC()"
   ]
  },
  {
   "cell_type": "code",
   "execution_count": 121,
   "id": "d5c26b2f",
   "metadata": {},
   "outputs": [],
   "source": [
    "parameters=({\"kernel\":[\"rbf\"],'C':[15,14,13,12,11,10,0.1,0.001],'gamma':[50,5,10,0.5]})"
   ]
  },
  {
   "cell_type": "code",
   "execution_count": 122,
   "id": "d04f6046",
   "metadata": {},
   "outputs": [],
   "source": [
    "grid=GridSearchCV(svc,parameters)"
   ]
  },
  {
   "cell_type": "code",
   "execution_count": 123,
   "id": "1192354a",
   "metadata": {},
   "outputs": [
    {
     "data": {
      "text/plain": [
       "GridSearchCV(estimator=SVC(),\n",
       "             param_grid={'C': [15, 14, 13, 12, 11, 10, 0.1, 0.001],\n",
       "                         'gamma': [50, 5, 10, 0.5], 'kernel': ['rbf']})"
      ]
     },
     "execution_count": 123,
     "metadata": {},
     "output_type": "execute_result"
    }
   ],
   "source": [
    "grid.fit(x_train,y_train)"
   ]
  },
  {
   "cell_type": "code",
   "execution_count": 125,
   "id": "60f29a26",
   "metadata": {},
   "outputs": [
    {
     "data": {
      "text/plain": [
       "{'C': 15, 'gamma': 50, 'kernel': 'rbf'}"
      ]
     },
     "execution_count": 125,
     "metadata": {},
     "output_type": "execute_result"
    }
   ],
   "source": [
    "grid.best_params_"
   ]
  },
  {
   "cell_type": "markdown",
   "id": "c91c3641",
   "metadata": {},
   "source": [
    "# Tunning the hyper parameters"
   ]
  },
  {
   "cell_type": "code",
   "execution_count": 129,
   "id": "3d180a2f",
   "metadata": {},
   "outputs": [
    {
     "data": {
      "text/plain": [
       "array(['small', 'small', 'small', 'small', 'small', 'small', 'small',\n",
       "       'small', 'small', 'small', 'small', 'small', 'small', 'small',\n",
       "       'small', 'small', 'small', 'small', 'small', 'small', 'small',\n",
       "       'small', 'small', 'small', 'small', 'small', 'small', 'small',\n",
       "       'small', 'small', 'small', 'small', 'small', 'small', 'small',\n",
       "       'small', 'small', 'small', 'small', 'small', 'small', 'small',\n",
       "       'small', 'small', 'small', 'small', 'small', 'small', 'small',\n",
       "       'small', 'small', 'small', 'small', 'small', 'small', 'small',\n",
       "       'small', 'small', 'small', 'small', 'small', 'small', 'small',\n",
       "       'small', 'small', 'small', 'small', 'small', 'small', 'small',\n",
       "       'small', 'small', 'small', 'small', 'small', 'small', 'small',\n",
       "       'small', 'small', 'small', 'small', 'small', 'small', 'small',\n",
       "       'small', 'small', 'small', 'small', 'small', 'small', 'small',\n",
       "       'small', 'small', 'small', 'small', 'small', 'small', 'small',\n",
       "       'small', 'small', 'small', 'small', 'small', 'small', 'small',\n",
       "       'small', 'small', 'small', 'small', 'small', 'small', 'small',\n",
       "       'small', 'small', 'small', 'small', 'small', 'small', 'small',\n",
       "       'small', 'small', 'small', 'small', 'small', 'small', 'small',\n",
       "       'small', 'small', 'small', 'small', 'small', 'small', 'small',\n",
       "       'small', 'small', 'small', 'small', 'small', 'small', 'small',\n",
       "       'small', 'small', 'small', 'small', 'small', 'small', 'small',\n",
       "       'small', 'small', 'small', 'small', 'small', 'small', 'small',\n",
       "       'small', 'small', 'small', 'small', 'small', 'small', 'small',\n",
       "       'small', 'small', 'small', 'small', 'small', 'small', 'small',\n",
       "       'small', 'small', 'small'], dtype=object)"
      ]
     },
     "execution_count": 129,
     "metadata": {},
     "output_type": "execute_result"
    }
   ],
   "source": [
    "model2=SVC(kernel=\"rbf\",C=15,gamma=50)\n",
    "model2.fit(x_train,y_train)\n",
    "model2.predict(x_test)"
   ]
  },
  {
   "cell_type": "code",
   "execution_count": 133,
   "id": "ca579756",
   "metadata": {},
   "outputs": [
    {
     "data": {
      "text/plain": [
       "1.0"
      ]
     },
     "execution_count": 133,
     "metadata": {},
     "output_type": "execute_result"
    }
   ],
   "source": [
    "model2.score(x_train,y_train)"
   ]
  },
  {
   "cell_type": "code",
   "execution_count": 134,
   "id": "67d0f84d",
   "metadata": {},
   "outputs": [
    {
     "data": {
      "text/plain": [
       "0.7251461988304093"
      ]
     },
     "execution_count": 134,
     "metadata": {},
     "output_type": "execute_result"
    }
   ],
   "source": [
    "model2.score(x_test,y_test)"
   ]
  }
 ],
 "metadata": {
  "kernelspec": {
   "display_name": "Python 3 (ipykernel)",
   "language": "python",
   "name": "python3"
  },
  "language_info": {
   "codemirror_mode": {
    "name": "ipython",
    "version": 3
   },
   "file_extension": ".py",
   "mimetype": "text/x-python",
   "name": "python",
   "nbconvert_exporter": "python",
   "pygments_lexer": "ipython3",
   "version": "3.9.12"
  }
 },
 "nbformat": 4,
 "nbformat_minor": 5
}
